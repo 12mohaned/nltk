{
 "cells": [
  {
   "cell_type": "code",
   "execution_count": 1,
   "metadata": {},
   "outputs": [],
   "source": [
    "from vaderSentiment.vaderSentiment import SentimentIntensityAnalyzer\n",
    "analyser = SentimentIntensityAnalyzer()"
   ]
  },
  {
   "cell_type": "code",
   "execution_count": 2,
   "metadata": {
    "collapsed": true
   },
   "outputs": [
    {
     "name": "stdout",
     "output_type": "stream",
     "text": [
      "Sentiment analysis has never been good.------------------------------ {'neg': 0.325, 'neu': 0.675, 'pos': 0.0, 'compound': -0.3412}\n",
      "Sentiment analysis has never been this good!------------------------- {'neg': 0.0, 'neu': 0.621, 'pos': 0.379, 'compound': 0.5672}\n",
      "Most automated sentiment analysis tools are shit.-------------------- {'neg': 0.375, 'neu': 0.625, 'pos': 0.0, 'compound': -0.5574}\n",
      "With VADER, sentiment analysis is the shit!-------------------------- {'neg': 0.0, 'neu': 0.583, 'pos': 0.417, 'compound': 0.6476}\n",
      "Other sentiment analysis tools can be quite bad.--------------------- {'neg': 0.351, 'neu': 0.649, 'pos': 0.0, 'compound': -0.5849}\n",
      "On the other hand, VADER is quite bad ass---------------------------- {'neg': 0.0, 'neu': 0.423, 'pos': 0.577, 'compound': 0.802}\n",
      "VADER is such a badass!---------------------------------------------- {'neg': 0.0, 'neu': 0.527, 'pos': 0.473, 'compound': 0.4003}\n",
      "Without a doubt, excellent idea.------------------------------------- {'neg': 0.0, 'neu': 0.256, 'pos': 0.744, 'compound': 0.7013}\n",
      "Roger Dodger is one of the most compelling variations on this theme.- {'neg': 0.0, 'neu': 0.834, 'pos': 0.166, 'compound': 0.2944}\n",
      "Roger Dodger is at least compelling as a variation on the theme.----- {'neg': 0.0, 'neu': 0.84, 'pos': 0.16, 'compound': 0.2263}\n",
      "Roger Dodger is one of the least compelling variations on this theme. {'neg': 0.132, 'neu': 0.868, 'pos': 0.0, 'compound': -0.1695}\n",
      "Not such a badass after all.----------------------------------------- {'neg': 0.337, 'neu': 0.663, 'pos': 0.0, 'compound': -0.2584}\n",
      "Without a doubt, an excellent idea.---------------------------------- {'neg': 0.0, 'neu': 0.341, 'pos': 0.659, 'compound': 0.7013}\n"
     ]
    }
   ],
   "source": [
    "#Understanding vader code\n",
    "#analyser.polarity_scores(\"VERY beautiful!!!\")\n",
    "#from itertools import product\n",
    "#for p in product({\"!\",\"?\"}, {\"the\", \"at\"}):\n",
    "#    print(''.join(p))\n",
    "#    print(p[1])\n",
    "#analyser.polarity_scores(\"KINDA good\")\n",
    "#analyser.polarity_scores(\"lol\")\n",
    "tricky_sentences = [\"Sentiment analysis has never been good.\",\n",
    "                        \"Sentiment analysis has never been this good!\",\n",
    "                        \"Most automated sentiment analysis tools are shit.\",\n",
    "                        \"With VADER, sentiment analysis is the shit!\",\n",
    "                        \"Other sentiment analysis tools can be quite bad.\",\n",
    "                        \"On the other hand, VADER is quite bad ass\",\n",
    "                        \"VADER is such a badass!\",  # slang with punctuation emphasis\n",
    "                        \"Without a doubt, excellent idea.\",\n",
    "                        \"Roger Dodger is one of the most compelling variations on this theme.\",\n",
    "                        \"Roger Dodger is at least compelling as a variation on the theme.\",\n",
    "                        \"Roger Dodger is one of the least compelling variations on this theme.\",\n",
    "                        \"Not such a badass after all.\",  # Capitalized negation with slang\n",
    "                        \"Without a doubt, an excellent idea.\"  # \"without {any} doubt\" as negation\n",
    "                        ]\n",
    "for sentence in tricky_sentences:\n",
    "    vs = analyser.polarity_scores(sentence)\n",
    "    print(\"{:-<69} {}\".format(sentence, str(vs)))"
   ]
  },
  {
   "cell_type": "code",
   "execution_count": 3,
   "metadata": {
    "collapsed": true
   },
   "outputs": [
    {
     "name": "stdout",
     "output_type": "stream",
     "text": [
      "{'neg': 0.0, 'neu': 1.0, 'pos': 0.0, 'compound': 0.0}\n",
      "{'neg': 0.0, 'neu': 0.674, 'pos': 0.326, 'compound': 0.4404}\n",
      "{'neg': 0.0, 'neu': 0.544, 'pos': 0.456, 'compound': 0.7717}\n",
      "{'neg': 0.0, 'neu': 0.511, 'pos': 0.489, 'compound': 0.7717}\n",
      "{'neg': 0.368, 'neu': 0.632, 'pos': 0.0, 'compound': -0.5423}\n",
      "{'neg': 0.0, 'neu': 1.0, 'pos': 0.0, 'compound': 0.0}\n",
      "{'neg': 0.278, 'neu': 0.722, 'pos': 0.0, 'compound': -0.4019}\n",
      "{'neg': 0.278, 'neu': 0.722, 'pos': 0.0, 'compound': -0.4019}\n",
      "{'neg': 0.0, 'neu': 1.0, 'pos': 0.0, 'compound': 0.0}\n",
      "{'neg': 0.238, 'neu': 0.762, 'pos': 0.0, 'compound': -0.3595}\n",
      "{'neg': 0.0, 'neu': 1.0, 'pos': 0.0, 'compound': 0.0}\n"
     ]
    }
   ],
   "source": [
    "print(analyser.polarity_scores(\"only\"))\n",
    "print(analyser.polarity_scores(\"The only good thing is the breakfast.\"))\n",
    "print(analyser.polarity_scores(\"The only good thing is that the breakfast was brilliant.\"))\n",
    "print(analyser.polarity_scores(\"The good thing is that the breakfast was brilliant.\"))\n",
    "print(analyser.polarity_scores(\"The only bad thing is the breakfast.\"))\n",
    "\n",
    "print(analyser.polarity_scores(\"Come here only if you don't mind climbing.\"))\n",
    "print(analyser.polarity_scores(\"It is a problem only if you have kids.\"))\n",
    "print(analyser.polarity_scores(\"It is only a problem if you have kids.\"))\n",
    "\n",
    "print(analyser.polarity_scores(\"If only I'd stayed here longer!\"))\n",
    "print(analyser.polarity_scores(\"If only I'd known there would be no food!\"))\n",
    "\n",
    "print(analyser.polarity_scores(\"The place has only 1 bed.\"))"
   ]
  },
  {
   "cell_type": "code",
   "execution_count": 4,
   "metadata": {
    "collapsed": true
   },
   "outputs": [
    {
     "name": "stdout",
     "output_type": "stream",
     "text": [
      "{'neg': 0.406, 'neu': 0.427, 'pos': 0.167, 'compound': -0.5859}\n",
      "{'neg': 0.307, 'neu': 0.439, 'pos': 0.254, 'compound': -0.1531}\n",
      "{'neg': 0.0, 'neu': 1.0, 'pos': 0.0, 'compound': 0.0}\n",
      "{'neg': 0.0, 'neu': 1.0, 'pos': 0.0, 'compound': 0.0}\n"
     ]
    }
   ],
   "source": [
    "print(analyser.polarity_scores(\"Beds were good but food was bad.\"))\n",
    "print(analyser.polarity_scores(\"Beds were good however food was bad.\"))\n",
    "print(analyser.polarity_scores(\"but\"))\n",
    "print(analyser.polarity_scores(\"however\"))"
   ]
  },
  {
   "cell_type": "code",
   "execution_count": 4,
   "metadata": {},
   "outputs": [
    {
     "name": "stdout",
     "output_type": "stream",
     "text": [
      "{'neg': 0.0, 'neu': 1.0, 'pos': 0.0, 'compound': 0.0}\n",
      "{'neg': 0.0, 'neu': 0.328, 'pos': 0.672, 'compound': 0.6249}\n",
      "{'neg': 0.0, 'neu': 0.594, 'pos': 0.406, 'compound': 0.6249}\n",
      "{'neg': 0.204, 'neu': 0.526, 'pos': 0.27, 'compound': 0.25}\n",
      "{'neg': 0.327, 'neu': 0.472, 'pos': 0.201, 'compound': -0.3818}\n",
      "{'neg': 0.327, 'neu': 0.472, 'pos': 0.201, 'compound': -0.3818}\n"
     ]
    }
   ],
   "source": [
    "print(analyser.polarity_scores(\"except\"))\n",
    "print(analyser.polarity_scores(\"Everything was awesome\"))\n",
    "print(analyser.polarity_scores(\"Everything was awesome except for the food\"))\n",
    "print(analyser.polarity_scores(\"Everything was awesome except for the food which was terrible\"))\n",
    "print(analyser.polarity_scores(\"Everything was awesome but the food was terrible\"))\n",
    "print(analyser.polarity_scores(\"Everything was awesome. But the food was terrible\"))"
   ]
  },
  {
   "cell_type": "code",
   "execution_count": 5,
   "metadata": {},
   "outputs": [
    {
     "name": "stdout",
     "output_type": "stream",
     "text": [
      "{'neg': 1.0, 'neu': 0.0, 'pos': 0.0, 'compound': -0.5267}\n",
      "{'neg': 0.63, 'neu': 0.37, 'pos': 0.0, 'compound': -0.5267}\n",
      "{'neg': 0.0, 'neu': 0.435, 'pos': 0.565, 'compound': 0.5994}\n",
      "{'neg': 0.222, 'neu': 0.523, 'pos': 0.255, 'compound': 0.128}\n"
     ]
    }
   ],
   "source": [
    "print(analyser.polarity_scores(\"spite\"))\n",
    "print(analyser.polarity_scores(\"in spite of\"))\n",
    "print(analyser.polarity_scores(\"The structure was beautiful\"))\n",
    "print(analyser.polarity_scores(\"The structure was beautiful in spite of being so old\"))"
   ]
  }
 ],
 "metadata": {
  "kernelspec": {
   "display_name": "Python 3",
   "language": "python",
   "name": "python3"
  },
  "language_info": {
   "codemirror_mode": {
    "name": "ipython",
    "version": 3
   },
   "file_extension": ".py",
   "mimetype": "text/x-python",
   "name": "python",
   "nbconvert_exporter": "python",
   "pygments_lexer": "ipython3",
   "version": "3.7.3"
  }
 },
 "nbformat": 4,
 "nbformat_minor": 2
}
